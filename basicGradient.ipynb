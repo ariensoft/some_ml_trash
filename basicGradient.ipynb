{
 "cells": [
  {
   "cell_type": "code",
   "execution_count": 1,
   "id": "af65ddb2-c5bf-45e6-91ab-93aa49cf2a46",
   "metadata": {},
   "outputs": [],
   "source": [
    "import datetime\n",
    "import numpy as np\n",
    "import pandas as pd\n",
    "import matplotlib.pyplot as plt\n",
    "from sklearn.ensemble import GradientBoostingClassifier\n",
    "from sklearn import ensemble"
   ]
  },
  {
   "cell_type": "code",
   "execution_count": 2,
   "id": "37b8ae0c-dc9c-4d20-ba80-f8f33416d709",
   "metadata": {},
   "outputs": [
    {
     "name": "stdout",
     "output_type": "stream",
     "text": [
      "              datetime      open      high       low     close       fma  \\\n",
      "0  2016-01-01 04:40:00 -0.003452  0.004203  0.000000  0.003097  0.000474   \n",
      "1  2016-01-01 04:45:00  0.003995  0.000828  0.000644  0.002558  0.000362   \n",
      "2  2016-01-01 04:50:00  0.000828  0.001425  0.000000  0.000253  0.000401   \n",
      "3  2016-01-01 04:55:00  0.000161  0.001034  0.000161 -0.000230  0.000036   \n",
      "4  2016-01-01 05:00:00 -0.000138  0.000000  0.000023 -0.000023  0.000033   \n",
      "5  2016-01-01 05:05:00  0.000575  0.000000  0.000597  0.000230  0.000066   \n",
      "6  2016-01-01 05:10:00 -0.000505  0.000230  0.000000  0.000092  0.000851   \n",
      "7  2016-01-01 05:15:00  0.000023  0.000000  0.000000 -0.000207  0.000381   \n",
      "8  2016-01-01 05:20:00 -0.000046  0.000000  0.000000 -0.000046  0.000010   \n",
      "9  2016-01-01 05:25:00  0.000046  0.000000  0.000000  0.000046 -0.000020   \n",
      "\n",
      "        sma  target  target2  \n",
      "0  0.000210     1.0      1.0  \n",
      "1  0.000365     1.0      0.0  \n",
      "2  0.000297     0.0      0.0  \n",
      "3  0.000264     0.0      1.0  \n",
      "4  0.000384     1.0      1.0  \n",
      "5  0.000277     1.0      0.0  \n",
      "6  0.000276     0.0      0.0  \n",
      "7  0.000351     0.0      1.0  \n",
      "8  0.000359     1.0      1.0  \n",
      "9  0.000352     1.0      1.0  \n"
     ]
    }
   ],
   "source": [
    "data = pd.read_csv('data/bitstampUSD5min_pct.csv')\n",
    "#data = data.loc[(data['datetime'] >= '2022-01-01')]\n",
    "#data.set_index('datetime', inplace=True)\n",
    "print(data.head(10))"
   ]
  },
  {
   "cell_type": "code",
   "execution_count": 3,
   "id": "07b0c010-901a-4d68-b0b1-db4c111e5e1b",
   "metadata": {},
   "outputs": [],
   "source": [
    "test = data.loc[(data['datetime'] >= '2022-01-01')]\n",
    "train = data.loc[(data['datetime'] < '2022-01-01')]"
   ]
  },
  {
   "cell_type": "code",
   "execution_count": 4,
   "id": "86517578-8c18-48b4-88f3-76aebf947b00",
   "metadata": {},
   "outputs": [
    {
     "data": {
      "text/html": [
       "<div>\n",
       "<style scoped>\n",
       "    .dataframe tbody tr th:only-of-type {\n",
       "        vertical-align: middle;\n",
       "    }\n",
       "\n",
       "    .dataframe tbody tr th {\n",
       "        vertical-align: top;\n",
       "    }\n",
       "\n",
       "    .dataframe thead th {\n",
       "        text-align: right;\n",
       "    }\n",
       "</style>\n",
       "<table border=\"1\" class=\"dataframe\">\n",
       "  <thead>\n",
       "    <tr style=\"text-align: right;\">\n",
       "      <th></th>\n",
       "      <th>datetime</th>\n",
       "      <th>open</th>\n",
       "      <th>high</th>\n",
       "      <th>low</th>\n",
       "      <th>close</th>\n",
       "      <th>fma</th>\n",
       "      <th>sma</th>\n",
       "      <th>target</th>\n",
       "      <th>target2</th>\n",
       "    </tr>\n",
       "  </thead>\n",
       "  <tbody>\n",
       "    <tr>\n",
       "      <th>585621</th>\n",
       "      <td>2022-01-01 00:00:00</td>\n",
       "      <td>-0.000887</td>\n",
       "      <td>0.003382</td>\n",
       "      <td>0.000651</td>\n",
       "      <td>0.001627</td>\n",
       "      <td>-0.000171</td>\n",
       "      <td>0.000017</td>\n",
       "      <td>1.0</td>\n",
       "      <td>0.0</td>\n",
       "    </tr>\n",
       "    <tr>\n",
       "      <th>585622</th>\n",
       "      <td>2022-01-01 00:05:00</td>\n",
       "      <td>0.001630</td>\n",
       "      <td>0.004203</td>\n",
       "      <td>0.000050</td>\n",
       "      <td>0.001598</td>\n",
       "      <td>-0.000302</td>\n",
       "      <td>0.000024</td>\n",
       "      <td>0.0</td>\n",
       "      <td>0.0</td>\n",
       "    </tr>\n",
       "    <tr>\n",
       "      <th>585623</th>\n",
       "      <td>2022-01-01 00:10:00</td>\n",
       "      <td>0.001189</td>\n",
       "      <td>0.000341</td>\n",
       "      <td>0.001956</td>\n",
       "      <td>-0.001031</td>\n",
       "      <td>-0.000298</td>\n",
       "      <td>0.000071</td>\n",
       "      <td>0.0</td>\n",
       "      <td>1.0</td>\n",
       "    </tr>\n",
       "    <tr>\n",
       "      <th>585624</th>\n",
       "      <td>2022-01-01 00:15:00</td>\n",
       "      <td>-0.001040</td>\n",
       "      <td>0.000143</td>\n",
       "      <td>0.002067</td>\n",
       "      <td>-0.000863</td>\n",
       "      <td>-0.000640</td>\n",
       "      <td>0.000022</td>\n",
       "      <td>1.0</td>\n",
       "      <td>0.0</td>\n",
       "    </tr>\n",
       "    <tr>\n",
       "      <th>585625</th>\n",
       "      <td>2022-01-01 00:20:00</td>\n",
       "      <td>-0.000636</td>\n",
       "      <td>0.002383</td>\n",
       "      <td>0.000043</td>\n",
       "      <td>0.002500</td>\n",
       "      <td>0.000003</td>\n",
       "      <td>0.000083</td>\n",
       "      <td>0.0</td>\n",
       "      <td>1.0</td>\n",
       "    </tr>\n",
       "  </tbody>\n",
       "</table>\n",
       "</div>"
      ],
      "text/plain": [
       "                   datetime      open      high       low     close       fma  \\\n",
       "585621  2022-01-01 00:00:00 -0.000887  0.003382  0.000651  0.001627 -0.000171   \n",
       "585622  2022-01-01 00:05:00  0.001630  0.004203  0.000050  0.001598 -0.000302   \n",
       "585623  2022-01-01 00:10:00  0.001189  0.000341  0.001956 -0.001031 -0.000298   \n",
       "585624  2022-01-01 00:15:00 -0.001040  0.000143  0.002067 -0.000863 -0.000640   \n",
       "585625  2022-01-01 00:20:00 -0.000636  0.002383  0.000043  0.002500  0.000003   \n",
       "\n",
       "             sma  target  target2  \n",
       "585621  0.000017     1.0      0.0  \n",
       "585622  0.000024     0.0      0.0  \n",
       "585623  0.000071     0.0      1.0  \n",
       "585624  0.000022     1.0      0.0  \n",
       "585625  0.000083     0.0      1.0  "
      ]
     },
     "execution_count": 4,
     "metadata": {},
     "output_type": "execute_result"
    }
   ],
   "source": [
    "test.head()"
   ]
  },
  {
   "cell_type": "code",
   "execution_count": 5,
   "id": "0a7171c6-6689-4ffa-bd08-04a6a640be44",
   "metadata": {},
   "outputs": [
    {
     "data": {
      "text/html": [
       "<div>\n",
       "<style scoped>\n",
       "    .dataframe tbody tr th:only-of-type {\n",
       "        vertical-align: middle;\n",
       "    }\n",
       "\n",
       "    .dataframe tbody tr th {\n",
       "        vertical-align: top;\n",
       "    }\n",
       "\n",
       "    .dataframe thead th {\n",
       "        text-align: right;\n",
       "    }\n",
       "</style>\n",
       "<table border=\"1\" class=\"dataframe\">\n",
       "  <thead>\n",
       "    <tr style=\"text-align: right;\">\n",
       "      <th></th>\n",
       "      <th>datetime</th>\n",
       "      <th>open</th>\n",
       "      <th>high</th>\n",
       "      <th>low</th>\n",
       "      <th>close</th>\n",
       "      <th>fma</th>\n",
       "      <th>sma</th>\n",
       "      <th>target</th>\n",
       "      <th>target2</th>\n",
       "    </tr>\n",
       "  </thead>\n",
       "  <tbody>\n",
       "    <tr>\n",
       "      <th>585616</th>\n",
       "      <td>2021-12-31 23:35:00</td>\n",
       "      <td>0.002088</td>\n",
       "      <td>0.000000</td>\n",
       "      <td>0.001581</td>\n",
       "      <td>-0.001056</td>\n",
       "      <td>-0.000059</td>\n",
       "      <td>0.000367</td>\n",
       "      <td>1.0</td>\n",
       "      <td>0.0</td>\n",
       "    </tr>\n",
       "    <tr>\n",
       "      <th>585617</th>\n",
       "      <td>2021-12-31 23:40:00</td>\n",
       "      <td>-0.001696</td>\n",
       "      <td>0.002011</td>\n",
       "      <td>0.000094</td>\n",
       "      <td>0.001525</td>\n",
       "      <td>0.000120</td>\n",
       "      <td>0.000467</td>\n",
       "      <td>0.0</td>\n",
       "      <td>0.0</td>\n",
       "    </tr>\n",
       "    <tr>\n",
       "      <th>585618</th>\n",
       "      <td>2021-12-31 23:45:00</td>\n",
       "      <td>0.000956</td>\n",
       "      <td>0.000031</td>\n",
       "      <td>0.001173</td>\n",
       "      <td>-0.001996</td>\n",
       "      <td>-0.000145</td>\n",
       "      <td>0.000351</td>\n",
       "      <td>0.0</td>\n",
       "      <td>0.0</td>\n",
       "    </tr>\n",
       "    <tr>\n",
       "      <th>585619</th>\n",
       "      <td>2021-12-31 23:50:00</td>\n",
       "      <td>-0.001429</td>\n",
       "      <td>0.000000</td>\n",
       "      <td>0.002420</td>\n",
       "      <td>-0.002903</td>\n",
       "      <td>-0.000672</td>\n",
       "      <td>0.000173</td>\n",
       "      <td>0.0</td>\n",
       "      <td>1.0</td>\n",
       "    </tr>\n",
       "    <tr>\n",
       "      <th>585620</th>\n",
       "      <td>2021-12-31 23:55:00</td>\n",
       "      <td>-0.002091</td>\n",
       "      <td>0.000206</td>\n",
       "      <td>0.002832</td>\n",
       "      <td>-0.000896</td>\n",
       "      <td>-0.000621</td>\n",
       "      <td>0.000096</td>\n",
       "      <td>1.0</td>\n",
       "      <td>1.0</td>\n",
       "    </tr>\n",
       "  </tbody>\n",
       "</table>\n",
       "</div>"
      ],
      "text/plain": [
       "                   datetime      open      high       low     close       fma  \\\n",
       "585616  2021-12-31 23:35:00  0.002088  0.000000  0.001581 -0.001056 -0.000059   \n",
       "585617  2021-12-31 23:40:00 -0.001696  0.002011  0.000094  0.001525  0.000120   \n",
       "585618  2021-12-31 23:45:00  0.000956  0.000031  0.001173 -0.001996 -0.000145   \n",
       "585619  2021-12-31 23:50:00 -0.001429  0.000000  0.002420 -0.002903 -0.000672   \n",
       "585620  2021-12-31 23:55:00 -0.002091  0.000206  0.002832 -0.000896 -0.000621   \n",
       "\n",
       "             sma  target  target2  \n",
       "585616  0.000367     1.0      0.0  \n",
       "585617  0.000467     0.0      0.0  \n",
       "585618  0.000351     0.0      0.0  \n",
       "585619  0.000173     0.0      1.0  \n",
       "585620  0.000096     1.0      1.0  "
      ]
     },
     "execution_count": 5,
     "metadata": {},
     "output_type": "execute_result"
    }
   ],
   "source": [
    "train.tail()"
   ]
  },
  {
   "cell_type": "code",
   "execution_count": 6,
   "id": "bbbf1257-431f-4a02-bfe5-23bafec47d0e",
   "metadata": {},
   "outputs": [],
   "source": [
    "y_train = train['target']\n",
    "X_train = train.loc[:,['open', 'high', 'low', 'close', 'fma', 'sma']]\n",
    "\n",
    "y_test = test['target']\n",
    "X_test = test.loc[:,['open', 'high', 'low', 'close', 'fma', 'sma']]"
   ]
  },
  {
   "cell_type": "code",
   "execution_count": 7,
   "id": "8ad283ce-ce74-4bcf-88d6-9d57f9400547",
   "metadata": {},
   "outputs": [
    {
     "name": "stdout",
     "output_type": "stream",
     "text": [
      "(60835, 6)\n",
      "(60835,)\n",
      "% of Class0 : 0.501866 y_test\n",
      "% of Class1 : 0.498134 y_test\n"
     ]
    }
   ],
   "source": [
    "print(X_test.shape)\n",
    "print(y_test.shape)\n",
    "print('%% of Class0 : %f y_test' % (np.count_nonzero(y_test == 0)/float(len(y_test))))\n",
    "print('%% of Class1 : %f y_test' % (np.count_nonzero(y_test == 1)/float(len(y_test))))"
   ]
  },
  {
   "cell_type": "code",
   "execution_count": 8,
   "id": "54c892a8-ff8f-4b8f-87a9-40702dd11f7d",
   "metadata": {},
   "outputs": [
    {
     "name": "stdout",
     "output_type": "stream",
     "text": [
      "(585621, 6)\n",
      "(585621,)\n",
      "% of Class0 : 0.482143 y_train\n",
      "% of Class1 : 0.517857 y_train\n"
     ]
    }
   ],
   "source": [
    "print(X_train.shape)\n",
    "print(y_train.shape)\n",
    "print('%% of Class0 : %f y_train' % (np.count_nonzero(y_train == 0)/float(len(y_train))))\n",
    "print('%% of Class1 : %f y_train' % (np.count_nonzero(y_train == 1)/float(len(y_train))))"
   ]
  },
  {
   "cell_type": "code",
   "execution_count": 9,
   "id": "bf4f5c49-6b56-45e8-9bfd-2afe971843ac",
   "metadata": {
    "scrolled": true,
    "tags": []
   },
   "outputs": [
    {
     "name": "stdout",
     "output_type": "stream",
     "text": [
      "      Iter       Train Loss   Remaining Time \n",
      "         1           1.3781           58.23s\n",
      "         2           1.3757           56.60s\n",
      "         3           1.3740           54.97s\n",
      "         4           1.3732           53.69s\n",
      "         5           1.3726           52.36s\n",
      "         6           1.3722           51.14s\n",
      "         7           1.3717           49.93s\n",
      "         8           1.3714           48.66s\n",
      "         9           1.3712           47.46s\n",
      "        10           1.3709           46.31s\n",
      "        11           1.3708           45.20s\n",
      "        12           1.3706           44.04s\n",
      "        13           1.3704           42.86s\n",
      "        14           1.3703           41.73s\n",
      "        15           1.3703           40.58s\n",
      "        16           1.3701           39.41s\n",
      "        17           1.3699           38.22s\n",
      "        18           1.3699           37.06s\n",
      "        19           1.3697           35.89s\n",
      "        20           1.3697           34.74s\n",
      "        21           1.3696           33.58s\n",
      "        22           1.3693           32.40s\n",
      "        23           1.3691           31.25s\n",
      "        24           1.3691           30.09s\n",
      "        25           1.3689           28.94s\n",
      "        26           1.3689           27.77s\n",
      "        27           1.3688           26.62s\n",
      "        28           1.3688           25.47s\n",
      "        29           1.3687           24.36s\n",
      "        30           1.3687           23.20s\n",
      "        31           1.3686           22.03s\n",
      "        32           1.3686           20.87s\n",
      "        33           1.3685           19.71s\n",
      "        34           1.3684           18.56s\n",
      "        35           1.3683           17.40s\n",
      "        36           1.3683           16.24s\n",
      "        37           1.3682           15.09s\n",
      "        38           1.3681           13.93s\n",
      "        39           1.3681           12.78s\n",
      "        40           1.3680           11.61s\n",
      "        41           1.3679           10.45s\n",
      "        42           1.3679            9.29s\n",
      "        43           1.3678            8.13s\n",
      "        44           1.3678            6.97s\n",
      "        45           1.3677            5.81s\n",
      "        46           1.3676            4.65s\n",
      "        47           1.3676            3.49s\n",
      "        48           1.3675            2.32s\n",
      "        49           1.3674            1.16s\n",
      "        50           1.3674            0.00s\n"
     ]
    },
    {
     "data": {
      "text/plain": [
       "GradientBoostingClassifier(learning_rate=0.5, n_estimators=50, verbose=3)"
      ]
     },
     "execution_count": 9,
     "metadata": {},
     "output_type": "execute_result"
    }
   ],
   "source": [
    "clf = ensemble.GradientBoostingClassifier(n_estimators=50, learning_rate=0.5, verbose=3)\n",
    "\n",
    "clf.fit(X_train, y_train)"
   ]
  },
  {
   "cell_type": "code",
   "execution_count": 10,
   "id": "12463d94-ff2f-4c16-99d9-563f63215703",
   "metadata": {},
   "outputs": [
    {
     "name": "stdout",
     "output_type": "stream",
     "text": [
      "Testing Accuracy: 0.553857\n"
     ]
    }
   ],
   "source": [
    "accuracy = clf.score(X_train, y_train)\n",
    "print('Testing Accuracy: %f' % accuracy)"
   ]
  },
  {
   "cell_type": "code",
   "execution_count": 11,
   "id": "fcb78104-0593-48e0-86da-0abc3bd558f7",
   "metadata": {},
   "outputs": [],
   "source": [
    "pred = clf.predict(X_test)"
   ]
  },
  {
   "cell_type": "code",
   "execution_count": 12,
   "id": "79194ec2-e1c3-4143-9af8-4f41aa0ea480",
   "metadata": {},
   "outputs": [],
   "source": [
    "df_trade = pd.DataFrame(X_test)\n",
    "df_trade['label']  = y_test\n",
    "df_trade['pred']   = pred\n",
    "df_trade['won']    = df_trade['label'] == df_trade['pred']"
   ]
  },
  {
   "cell_type": "code",
   "execution_count": 13,
   "id": "391bfeb0-d7e8-49e1-8f90-edfb24619207",
   "metadata": {},
   "outputs": [
    {
     "data": {
      "text/html": [
       "<div>\n",
       "<style scoped>\n",
       "    .dataframe tbody tr th:only-of-type {\n",
       "        vertical-align: middle;\n",
       "    }\n",
       "\n",
       "    .dataframe tbody tr th {\n",
       "        vertical-align: top;\n",
       "    }\n",
       "\n",
       "    .dataframe thead th {\n",
       "        text-align: right;\n",
       "    }\n",
       "</style>\n",
       "<table border=\"1\" class=\"dataframe\">\n",
       "  <thead>\n",
       "    <tr style=\"text-align: right;\">\n",
       "      <th></th>\n",
       "      <th>open</th>\n",
       "      <th>high</th>\n",
       "      <th>low</th>\n",
       "      <th>close</th>\n",
       "      <th>fma</th>\n",
       "      <th>sma</th>\n",
       "      <th>label</th>\n",
       "      <th>pred</th>\n",
       "      <th>won</th>\n",
       "    </tr>\n",
       "  </thead>\n",
       "  <tbody>\n",
       "    <tr>\n",
       "      <th>585621</th>\n",
       "      <td>-0.000887</td>\n",
       "      <td>0.003382</td>\n",
       "      <td>0.000651</td>\n",
       "      <td>0.001627</td>\n",
       "      <td>-0.000171</td>\n",
       "      <td>0.000017</td>\n",
       "      <td>1.0</td>\n",
       "      <td>1.0</td>\n",
       "      <td>True</td>\n",
       "    </tr>\n",
       "    <tr>\n",
       "      <th>585622</th>\n",
       "      <td>0.001630</td>\n",
       "      <td>0.004203</td>\n",
       "      <td>0.000050</td>\n",
       "      <td>0.001598</td>\n",
       "      <td>-0.000302</td>\n",
       "      <td>0.000024</td>\n",
       "      <td>0.0</td>\n",
       "      <td>1.0</td>\n",
       "      <td>False</td>\n",
       "    </tr>\n",
       "    <tr>\n",
       "      <th>585623</th>\n",
       "      <td>0.001189</td>\n",
       "      <td>0.000341</td>\n",
       "      <td>0.001956</td>\n",
       "      <td>-0.001031</td>\n",
       "      <td>-0.000298</td>\n",
       "      <td>0.000071</td>\n",
       "      <td>0.0</td>\n",
       "      <td>1.0</td>\n",
       "      <td>False</td>\n",
       "    </tr>\n",
       "    <tr>\n",
       "      <th>585624</th>\n",
       "      <td>-0.001040</td>\n",
       "      <td>0.000143</td>\n",
       "      <td>0.002067</td>\n",
       "      <td>-0.000863</td>\n",
       "      <td>-0.000640</td>\n",
       "      <td>0.000022</td>\n",
       "      <td>1.0</td>\n",
       "      <td>1.0</td>\n",
       "      <td>True</td>\n",
       "    </tr>\n",
       "    <tr>\n",
       "      <th>585625</th>\n",
       "      <td>-0.000636</td>\n",
       "      <td>0.002383</td>\n",
       "      <td>0.000043</td>\n",
       "      <td>0.002500</td>\n",
       "      <td>0.000003</td>\n",
       "      <td>0.000083</td>\n",
       "      <td>0.0</td>\n",
       "      <td>0.0</td>\n",
       "      <td>True</td>\n",
       "    </tr>\n",
       "  </tbody>\n",
       "</table>\n",
       "</div>"
      ],
      "text/plain": [
       "            open      high       low     close       fma       sma  label  \\\n",
       "585621 -0.000887  0.003382  0.000651  0.001627 -0.000171  0.000017    1.0   \n",
       "585622  0.001630  0.004203  0.000050  0.001598 -0.000302  0.000024    0.0   \n",
       "585623  0.001189  0.000341  0.001956 -0.001031 -0.000298  0.000071    0.0   \n",
       "585624 -0.001040  0.000143  0.002067 -0.000863 -0.000640  0.000022    1.0   \n",
       "585625 -0.000636  0.002383  0.000043  0.002500  0.000003  0.000083    0.0   \n",
       "\n",
       "        pred    won  \n",
       "585621   1.0   True  \n",
       "585622   1.0  False  \n",
       "585623   1.0  False  \n",
       "585624   1.0   True  \n",
       "585625   0.0   True  "
      ]
     },
     "execution_count": 13,
     "metadata": {},
     "output_type": "execute_result"
    }
   ],
   "source": [
    "df_trade.head(5)"
   ]
  },
  {
   "cell_type": "code",
   "execution_count": 14,
   "id": "af7821c4-9df1-4770-8f69-20ca8a13ea68",
   "metadata": {},
   "outputs": [
    {
     "name": "stdout",
     "output_type": "stream",
     "text": [
      "29021\n",
      "31814\n"
     ]
    }
   ],
   "source": [
    "print(df_trade[df_trade['won'] == False]['won'].count())\n",
    "print(df_trade[df_trade['won'] == True]['won'].count())"
   ]
  },
  {
   "cell_type": "code",
   "execution_count": 15,
   "id": "30c1555f-cc3b-4624-b84e-2f8566d4e47d",
   "metadata": {},
   "outputs": [
    {
     "data": {
      "text/plain": [
       "0.5229555354647818"
      ]
     },
     "execution_count": 15,
     "metadata": {},
     "output_type": "execute_result"
    }
   ],
   "source": [
    "df_trade[df_trade['won'] == True]['won'].count()/df_trade['won'].count()"
   ]
  },
  {
   "cell_type": "code",
   "execution_count": null,
   "id": "d2c23e20-9b80-49e1-966a-db1a2252ee11",
   "metadata": {},
   "outputs": [],
   "source": []
  }
 ],
 "metadata": {
  "kernelspec": {
   "display_name": "torch",
   "language": "python",
   "name": "torch"
  },
  "language_info": {
   "codemirror_mode": {
    "name": "ipython",
    "version": 3
   },
   "file_extension": ".py",
   "mimetype": "text/x-python",
   "name": "python",
   "nbconvert_exporter": "python",
   "pygments_lexer": "ipython3",
   "version": "3.9.7"
  }
 },
 "nbformat": 4,
 "nbformat_minor": 5
}
