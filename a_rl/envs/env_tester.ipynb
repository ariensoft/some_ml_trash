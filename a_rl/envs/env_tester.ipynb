{
 "cells": [
  {
   "cell_type": "code",
   "execution_count": 1,
   "metadata": {},
   "outputs": [],
   "source": [
    "from stable_baselines3.common.vec_env import DummyVecEnv\n",
    "from stable_baselines3 import PPO\n",
    "from stable_baselines3.ppo import MlpPolicy, CnnPolicy\n",
    "from stable_baselines3.common.env_checker import check_env\n",
    "from bitstamp_prophet import BitstampProphet\n",
    "import numpy as np\n",
    "from pylab import rcParams\n",
    "\n",
    "np.set_printoptions(suppress=True)\n",
    "rcParams['figure.figsize'] = 20, 10"
   ]
  },
  {
   "cell_type": "code",
   "execution_count": 2,
   "metadata": {},
   "outputs": [
    {
     "name": "stderr",
     "output_type": "stream",
     "text": [
      "C:\\Users\\mrari\\.conda\\envs\\torch\\lib\\site-packages\\gym\\logger.py:30: UserWarning: \u001b[33mWARN: Box bound precision lowered by casting to float32\u001b[0m\n",
      "  warnings.warn(colorize('%s: %s'%('WARN', msg % args), 'yellow'))\n",
      "C:\\Users\\mrari\\.conda\\envs\\torch\\lib\\site-packages\\stable_baselines3\\common\\env_checker.py:231: UserWarning: We recommend you to use a symmetric and normalized Box action space (range=[-1, 1]) cf https://stable-baselines3.readthedocs.io/en/master/guide/rl_tips.html\n",
      "  warnings.warn(\n"
     ]
    }
   ],
   "source": [
    "env = BitstampProphet(train_mode=False)\n",
    "check_env(env, warn=True)"
   ]
  },
  {
   "cell_type": "code",
   "execution_count": 3,
   "metadata": {},
   "outputs": [
    {
     "name": "stdout",
     "output_type": "stream",
     "text": [
      "1 {'side': 1, 'contracts': 124, 'exec_price': 9384.16, 'profit': 0.0, 'active': True} 0.005086244053809825\n",
      "2 {'side': 1, 'contracts': 124, 'exec_price': 9384.16, 'profit': 0.0, 'active': True} 0.005086244053809825\n",
      "3 {'side': 1, 'contracts': 124, 'exec_price': 9384.16, 'profit': 5.860258500655616e-06, 'active': True} 0.0050921043123104805\n",
      "8 {'side': 0, 'contracts': 36, 'exec_price': 9376.23, 'profit': 0.0, 'active': True} 0.0012584683127201974\n",
      "9 {'side': 0, 'contracts': 36, 'exec_price': 9376.23, 'profit': -3.030483986420822e-07, 'active': True} 0.0012581652643215554\n",
      "10 {'side': 0, 'contracts': 36, 'exec_price': 9376.23, 'profit': -7.20842182463531e-07, 'active': True} 0.0012574444221390918\n",
      "11 {'side': 0, 'contracts': 36, 'exec_price': 9376.23, 'profit': -9.871307516039706e-07, 'active': True} 0.0012564572913874878\n",
      "12 {'side': 0, 'contracts': 36, 'exec_price': 9376.23, 'profit': -1.6550629983691457e-06, 'active': True} 0.0012548022283891186\n",
      "13 {'side': 0, 'contracts': 36, 'exec_price': 9376.23, 'profit': -1.6591614592620764e-06, 'active': True} 0.0012531430669298566\n",
      "14 {'side': 0, 'contracts': 36, 'exec_price': 9376.23, 'profit': -1.6632599289009408e-06, 'active': True} 0.0012514798070009556\n",
      "15 {'side': 0, 'contracts': 36, 'exec_price': 9376.23, 'profit': -1.9378773196147207e-06, 'active': True} 0.0012495419296813409\n",
      "16 {'side': 0, 'contracts': 36, 'exec_price': 9376.23, 'profit': -2.1715379549180013e-06, 'active': True} 0.0012473703917264228\n",
      "17 {'side': 0, 'contracts': 36, 'exec_price': 9376.23, 'profit': -2.2453314296438237e-06, 'active': True} 0.001245125060296779\n",
      "18 {'side': 0, 'contracts': 36, 'exec_price': 9376.23, 'profit': -2.6184418399034987e-06, 'active': True} 0.0012425066184568755\n",
      "19 {'side': 0, 'contracts': 36, 'exec_price': 9376.23, 'profit': 5.199850970703628e-07, 'active': True} 0.001243026603553946\n",
      "20 {'side': 0, 'contracts': 36, 'exec_price': 9376.23, 'profit': 5.323329240304944e-08, 'active': True} 0.001243079836846349\n",
      "21 {'side': 0, 'contracts': 36, 'exec_price': 9376.23, 'profit': -6.962635608133731e-07, 'active': True} 0.0012423835732855355\n",
      "26 {'side': 0, 'contracts': 6, 'exec_price': 9379.78, 'profit': 0.0, 'active': True} 0.0006020134580992042\n",
      "27 {'side': 0, 'contracts': 6, 'exec_price': 9379.78, 'profit': -4.1012739252931e-07, 'active': True} 0.0006016033307066749\n",
      "28 {'side': 0, 'contracts': 6, 'exec_price': 9379.78, 'profit': -1.568571902436076e-08, 'active': True} 0.0006015876449876505\n",
      "30 {'side': 1, 'contracts': 1, 'exec_price': 9370.53, 'profit': 0.0, 'active': True} 0.000494854409674313\n",
      "31 {'side': 1, 'contracts': 1, 'exec_price': 9370.53, 'profit': -7.181393069947072e-08, 'active': True} 0.0004947825957436135\n",
      "32 {'side': 1, 'contracts': 1, 'exec_price': 9370.53, 'profit': -6.919800455958223e-08, 'active': True} 0.000494713397739054\n",
      "33 {'side': 1, 'contracts': 1, 'exec_price': 9370.53, 'profit': -7.147273021978985e-08, 'active': True} 0.0004946419250088342\n",
      "34 {'side': 1, 'contracts': 1, 'exec_price': 9370.53, 'profit': 1.355419741596003e-08, 'active': True} 0.0004946554792062501\n",
      "39 {'side': 1, 'contracts': 2, 'exec_price': 9372.68, 'profit': 0.0, 'active': True} 0.0002812828941137297\n",
      "51 {'side': 0, 'contracts': 1, 'exec_price': 9370.49, 'profit': 0.0, 'active': True} 0.00017456488897205622\n",
      "52 {'side': 0, 'contracts': 1, 'exec_price': 9370.49, 'profit': -1.0249957806211232e-09, 'active': True} 0.0001745638639762756\n",
      "53 {'side': 0, 'contracts': 1, 'exec_price': 9370.49, 'profit': -4.8973797618032935e-09, 'active': True} 0.00017455896659651377\n",
      "54 {'side': 0, 'contracts': 1, 'exec_price': 9370.49, 'profit': -9.111063882245429e-10, 'active': True} 0.00017455805549012555\n",
      "55 {'side': 0, 'contracts': 1, 'exec_price': 9370.49, 'profit': -9.111063882245429e-10, 'active': True} 0.00017455714438373732\n",
      "56 {'side': 0, 'contracts': 1, 'exec_price': 9370.49, 'profit': -9.111063882245429e-10, 'active': True} 0.0001745562332773491\n",
      "57 {'side': 0, 'contracts': 1, 'exec_price': 9370.49, 'profit': 5.1224697107684724e-08, 'active': True} 0.00017460745797445677\n",
      "58 {'side': 0, 'contracts': 1, 'exec_price': 9370.49, 'profit': 5.1224697107684724e-08, 'active': True} 0.00017465868267156447\n",
      "59 {'side': 0, 'contracts': 1, 'exec_price': 9370.49, 'profit': -9.111063882245429e-10, 'active': True} 0.00017465777156517624\n",
      "60 {'side': 0, 'contracts': 1, 'exec_price': 9370.49, 'profit': -1.9022573663127467e-08, 'active': True} 0.00017463874899151312\n",
      "61 {'side': 0, 'contracts': 1, 'exec_price': 9370.49, 'profit': -2.1870847938579817e-08, 'active': True} 0.00017461687814357454\n",
      "62 {'side': 0, 'contracts': 1, 'exec_price': 9370.49, 'profit': -2.198478207145996e-08, 'active': True} 0.00017459489336150308\n",
      "63 {'side': 0, 'contracts': 1, 'exec_price': 9370.49, 'profit': -2.2212651066874753e-08, 'active': True} 0.00017457268071043621\n",
      "Done {'terminal_reason': 'bankrupt', 'terminal_balance': 6.784965713320631e-05, 'reward': -1000}\n"
     ]
    }
   ],
   "source": [
    "done = False\n",
    "env.reset()\n",
    "while not done:\n",
    "    # Random action\n",
    "    action = env.action_space.sample()\n",
    "    env.render()\n",
    "    obs, reward, done, info = env.step(action)\n",
    "    if done:\n",
    "        print('Done', info)\n"
   ]
  },
  {
   "cell_type": "code",
   "execution_count": 4,
   "metadata": {},
   "outputs": [
    {
     "data": {
      "text/plain": [
       "Box(0.0, 1.0, (97,), float32)"
      ]
     },
     "execution_count": 4,
     "metadata": {},
     "output_type": "execute_result"
    }
   ],
   "source": [
    "env.observation_space"
   ]
  },
  {
   "cell_type": "code",
   "execution_count": null,
   "metadata": {},
   "outputs": [],
   "source": []
  }
 ],
 "metadata": {
  "kernelspec": {
   "display_name": "torch",
   "language": "python",
   "name": "torch"
  },
  "language_info": {
   "codemirror_mode": {
    "name": "ipython",
    "version": 3
   },
   "file_extension": ".py",
   "mimetype": "text/x-python",
   "name": "python",
   "nbconvert_exporter": "python",
   "pygments_lexer": "ipython3",
   "version": "3.8.5"
  }
 },
 "nbformat": 4,
 "nbformat_minor": 4
}
