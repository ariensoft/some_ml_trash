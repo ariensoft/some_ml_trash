{
 "cells": [
  {
   "cell_type": "code",
   "execution_count": 1,
   "metadata": {},
   "outputs": [],
   "source": [
    "from stable_baselines3.common.vec_env import DummyVecEnv\n",
    "from stable_baselines3 import A2C, PPO\n",
    "from stable_baselines3.ppo import MlpPolicy, CnnPolicy\n",
    "from stenv import BitstampEnv\n",
    "import numpy as np\n",
    "import pandas as pd\n",
    "from pylab import rcParams\n",
    "\n",
    "rcParams['figure.figsize'] = 20, 10\n",
    "pd.set_option('display.float_format', lambda x: '%.3f' % x)\n",
    "np.set_printoptions(suppress=True)"
   ]
  },
  {
   "cell_type": "code",
   "execution_count": null,
   "metadata": {
    "scrolled": true
   },
   "outputs": [
    {
     "name": "stderr",
     "output_type": "stream",
     "text": [
      "C:\\Users\\mrari\\.conda\\envs\\torch\\lib\\site-packages\\gym\\logger.py:30: UserWarning: \u001b[33mWARN: Box bound precision lowered by casting to float32\u001b[0m\n",
      "  warnings.warn(colorize('%s: %s'%('WARN', msg % args), 'yellow'))\n"
     ]
    },
    {
     "name": "stdout",
     "output_type": "stream",
     "text": [
      "Using cuda device\n",
      "Logging to ../logs/ppo/PPO_16\n",
      "-----------------------------\n",
      "| time/              |      |\n",
      "|    fps             | 15   |\n",
      "|    iterations      | 1    |\n",
      "|    time_elapsed    | 136  |\n",
      "|    total_timesteps | 2048 |\n",
      "-----------------------------\n",
      "-----------------------------------------\n",
      "| time/                   |             |\n",
      "|    fps                  | 12          |\n",
      "|    iterations           | 2           |\n",
      "|    time_elapsed         | 328         |\n",
      "|    total_timesteps      | 4096        |\n",
      "| train/                  |             |\n",
      "|    approx_kl            | 0.003742926 |\n",
      "|    clip_fraction        | 0.026       |\n",
      "|    clip_range           | 0.2         |\n",
      "|    entropy_loss         | -2.84       |\n",
      "|    explained_variance   | -1.69e+07   |\n",
      "|    learning_rate        | 0.0003      |\n",
      "|    loss                 | 2.64e+04    |\n",
      "|    n_updates            | 10          |\n",
      "|    policy_gradient_loss | -0.00451    |\n",
      "|    std                  | 1           |\n",
      "|    value_loss           | 4.5e+04     |\n",
      "-----------------------------------------\n"
     ]
    }
   ],
   "source": [
    "env = DummyVecEnv([lambda: BitstampEnv()])\n",
    "\n",
    "model = PPO(MlpPolicy, env, verbose=1, tensorboard_log='../logs/ppo/')\n",
    "model.learn(total_timesteps=1200000)\n",
    "model.save(\"../models/PPO\")\n",
    "\n",
    "del model  # remove to demonstrate saving and loading"
   ]
  },
  {
   "cell_type": "code",
   "execution_count": null,
   "metadata": {},
   "outputs": [],
   "source": [
    "model = PPO.load(\"../models/PPO\")\n",
    "\n",
    "env2 = DummyVecEnv([lambda: BitstampEnv(train_mode=False)])\n",
    "obs = env2.reset()\n",
    "\n",
    "done = False\n",
    "while not done:\n",
    "    # Random action\n",
    "    #action = env.action_space.sample()\n",
    "    action, _states = model.predict(obs)\n",
    "    obs, reward, done, info = env2.step(action)\n",
    "    #env2.render()\n",
    "    if done:\n",
    "        print('Done', info)"
   ]
  },
  {
   "cell_type": "code",
   "execution_count": null,
   "metadata": {},
   "outputs": [],
   "source": []
  }
 ],
 "metadata": {
  "kernelspec": {
   "display_name": "torch",
   "language": "python",
   "name": "torch"
  },
  "language_info": {
   "codemirror_mode": {
    "name": "ipython",
    "version": 3
   },
   "file_extension": ".py",
   "mimetype": "text/x-python",
   "name": "python",
   "nbconvert_exporter": "python",
   "pygments_lexer": "ipython3",
   "version": "3.8.8"
  }
 },
 "nbformat": 4,
 "nbformat_minor": 4
}
